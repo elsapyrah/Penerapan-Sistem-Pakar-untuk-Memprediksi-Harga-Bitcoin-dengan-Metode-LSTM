{
  "cells": [
    {
      "cell_type": "markdown",
      "source": [
        "**Kelompok 2 RPP**"
      ],
      "metadata": {
        "id": "LquFeEpfSj-X"
      }
    },
    {
      "cell_type": "code",
      "execution_count": null,
      "metadata": {
        "id": "lLIL03EoBBgK"
      },
      "outputs": [],
      "source": [
        "import pandas as pd\n",
        "from sklearn.preprocessing import MinMaxScaler\n",
        "import numpy as np\n",
        "import tensorflow as tf\n",
        "from tensorflow.keras.models import Sequential\n",
        "from tensorflow.keras.layers import Dense, LSTM, Dropout\n",
        "import matplotlib.pyplot as plt"
      ]
    },
    {
      "cell_type": "code",
      "execution_count": null,
      "metadata": {
        "id": "vWL8WfvX_9y-"
      },
      "outputs": [],
      "source": [
        "df = pd.read_csv('/content/btc_2015_2024.csv')\n",
        "data = df.filter(['close'])\n",
        "df['date'] = pd.to_datetime(df['date'])\n",
        "df.set_index('date', inplace=True)"
      ]
    },
    {
      "cell_type": "code",
      "source": [
        "df.head()"
      ],
      "metadata": {
        "colab": {
          "base_uri": "https://localhost:8080/",
          "height": 344
        },
        "id": "DDlGWbLvSFOi",
        "outputId": "3afbe4d7-a42e-4e60-c07e-77ec618fb6ac"
      },
      "execution_count": null,
      "outputs": [
        {
          "output_type": "execute_result",
          "data": {
            "text/plain": [
              "                  open        high         low       close      volume  \\\n",
              "date                                                                     \n",
              "2015-01-02  314.079010  315.838989  313.565002  315.032013   7860650.0   \n",
              "2015-01-03  314.846008  315.149994  281.082001  281.082001  33054400.0   \n",
              "2015-01-04  281.145996  287.230011  257.612000  264.195007  55629100.0   \n",
              "2015-01-05  265.084015  278.341003  265.084015  274.473999  43962800.0   \n",
              "2015-01-06  274.610992  287.553009  272.696014  286.188995  23245700.0   \n",
              "\n",
              "                 rsi_7      rsi_14       cci_7      cci_14      sma_50  \\\n",
              "date                                                                     \n",
              "2015-01-02  100.000000  100.000000  -66.666667  -66.666667  314.640503   \n",
              "2015-01-03    1.938583    2.096744 -100.000000 -100.000000  303.454336   \n",
              "2015-01-04    1.235506    1.375421 -110.693896 -110.693896  293.639503   \n",
              "2015-01-05   21.462825   19.523695  -76.487357  -76.487357  289.806403   \n",
              "2015-01-06   38.272356   34.350787  -37.070244  -37.070244  289.203501   \n",
              "\n",
              "                ema_50     sma_100     ema_100      macd   bollinger  \\\n",
              "date                                                                   \n",
              "2015-01-02  314.648333  314.640503  314.644418  0.017568  314.640503   \n",
              "2015-01-03  303.009081  303.454336  303.232458 -1.030403  303.454336   \n",
              "2015-01-04  292.715747  293.639503  293.178382 -2.091487  293.639503   \n",
              "2015-01-05  288.769813  289.806403  289.286389 -2.215008  289.806403   \n",
              "2015-01-06  288.295540  289.203501  288.744005 -1.746686  289.203501   \n",
              "\n",
              "            TrueRange      atr_7     atr_14  next_day_close  \n",
              "date                                                         \n",
              "2015-01-02   2.273987   4.193073   4.275997      281.082001  \n",
              "2015-01-03  34.067993  15.719617  14.951008      264.195007  \n",
              "2015-01-04  29.618011  20.033779  19.034849      274.473999  \n",
              "2015-01-05  14.145996  18.468441  17.907070      286.188995  \n",
              "2015-01-06  14.856995  17.613461  17.300126      294.337006  "
            ],
            "text/html": [
              "\n",
              "  <div id=\"df-dd5b758f-865e-464e-a34e-727078e1d19b\" class=\"colab-df-container\">\n",
              "    <div>\n",
              "<style scoped>\n",
              "    .dataframe tbody tr th:only-of-type {\n",
              "        vertical-align: middle;\n",
              "    }\n",
              "\n",
              "    .dataframe tbody tr th {\n",
              "        vertical-align: top;\n",
              "    }\n",
              "\n",
              "    .dataframe thead th {\n",
              "        text-align: right;\n",
              "    }\n",
              "</style>\n",
              "<table border=\"1\" class=\"dataframe\">\n",
              "  <thead>\n",
              "    <tr style=\"text-align: right;\">\n",
              "      <th></th>\n",
              "      <th>open</th>\n",
              "      <th>high</th>\n",
              "      <th>low</th>\n",
              "      <th>close</th>\n",
              "      <th>volume</th>\n",
              "      <th>rsi_7</th>\n",
              "      <th>rsi_14</th>\n",
              "      <th>cci_7</th>\n",
              "      <th>cci_14</th>\n",
              "      <th>sma_50</th>\n",
              "      <th>ema_50</th>\n",
              "      <th>sma_100</th>\n",
              "      <th>ema_100</th>\n",
              "      <th>macd</th>\n",
              "      <th>bollinger</th>\n",
              "      <th>TrueRange</th>\n",
              "      <th>atr_7</th>\n",
              "      <th>atr_14</th>\n",
              "      <th>next_day_close</th>\n",
              "    </tr>\n",
              "    <tr>\n",
              "      <th>date</th>\n",
              "      <th></th>\n",
              "      <th></th>\n",
              "      <th></th>\n",
              "      <th></th>\n",
              "      <th></th>\n",
              "      <th></th>\n",
              "      <th></th>\n",
              "      <th></th>\n",
              "      <th></th>\n",
              "      <th></th>\n",
              "      <th></th>\n",
              "      <th></th>\n",
              "      <th></th>\n",
              "      <th></th>\n",
              "      <th></th>\n",
              "      <th></th>\n",
              "      <th></th>\n",
              "      <th></th>\n",
              "      <th></th>\n",
              "    </tr>\n",
              "  </thead>\n",
              "  <tbody>\n",
              "    <tr>\n",
              "      <th>2015-01-02</th>\n",
              "      <td>314.079010</td>\n",
              "      <td>315.838989</td>\n",
              "      <td>313.565002</td>\n",
              "      <td>315.032013</td>\n",
              "      <td>7860650.0</td>\n",
              "      <td>100.000000</td>\n",
              "      <td>100.000000</td>\n",
              "      <td>-66.666667</td>\n",
              "      <td>-66.666667</td>\n",
              "      <td>314.640503</td>\n",
              "      <td>314.648333</td>\n",
              "      <td>314.640503</td>\n",
              "      <td>314.644418</td>\n",
              "      <td>0.017568</td>\n",
              "      <td>314.640503</td>\n",
              "      <td>2.273987</td>\n",
              "      <td>4.193073</td>\n",
              "      <td>4.275997</td>\n",
              "      <td>281.082001</td>\n",
              "    </tr>\n",
              "    <tr>\n",
              "      <th>2015-01-03</th>\n",
              "      <td>314.846008</td>\n",
              "      <td>315.149994</td>\n",
              "      <td>281.082001</td>\n",
              "      <td>281.082001</td>\n",
              "      <td>33054400.0</td>\n",
              "      <td>1.938583</td>\n",
              "      <td>2.096744</td>\n",
              "      <td>-100.000000</td>\n",
              "      <td>-100.000000</td>\n",
              "      <td>303.454336</td>\n",
              "      <td>303.009081</td>\n",
              "      <td>303.454336</td>\n",
              "      <td>303.232458</td>\n",
              "      <td>-1.030403</td>\n",
              "      <td>303.454336</td>\n",
              "      <td>34.067993</td>\n",
              "      <td>15.719617</td>\n",
              "      <td>14.951008</td>\n",
              "      <td>264.195007</td>\n",
              "    </tr>\n",
              "    <tr>\n",
              "      <th>2015-01-04</th>\n",
              "      <td>281.145996</td>\n",
              "      <td>287.230011</td>\n",
              "      <td>257.612000</td>\n",
              "      <td>264.195007</td>\n",
              "      <td>55629100.0</td>\n",
              "      <td>1.235506</td>\n",
              "      <td>1.375421</td>\n",
              "      <td>-110.693896</td>\n",
              "      <td>-110.693896</td>\n",
              "      <td>293.639503</td>\n",
              "      <td>292.715747</td>\n",
              "      <td>293.639503</td>\n",
              "      <td>293.178382</td>\n",
              "      <td>-2.091487</td>\n",
              "      <td>293.639503</td>\n",
              "      <td>29.618011</td>\n",
              "      <td>20.033779</td>\n",
              "      <td>19.034849</td>\n",
              "      <td>274.473999</td>\n",
              "    </tr>\n",
              "    <tr>\n",
              "      <th>2015-01-05</th>\n",
              "      <td>265.084015</td>\n",
              "      <td>278.341003</td>\n",
              "      <td>265.084015</td>\n",
              "      <td>274.473999</td>\n",
              "      <td>43962800.0</td>\n",
              "      <td>21.462825</td>\n",
              "      <td>19.523695</td>\n",
              "      <td>-76.487357</td>\n",
              "      <td>-76.487357</td>\n",
              "      <td>289.806403</td>\n",
              "      <td>288.769813</td>\n",
              "      <td>289.806403</td>\n",
              "      <td>289.286389</td>\n",
              "      <td>-2.215008</td>\n",
              "      <td>289.806403</td>\n",
              "      <td>14.145996</td>\n",
              "      <td>18.468441</td>\n",
              "      <td>17.907070</td>\n",
              "      <td>286.188995</td>\n",
              "    </tr>\n",
              "    <tr>\n",
              "      <th>2015-01-06</th>\n",
              "      <td>274.610992</td>\n",
              "      <td>287.553009</td>\n",
              "      <td>272.696014</td>\n",
              "      <td>286.188995</td>\n",
              "      <td>23245700.0</td>\n",
              "      <td>38.272356</td>\n",
              "      <td>34.350787</td>\n",
              "      <td>-37.070244</td>\n",
              "      <td>-37.070244</td>\n",
              "      <td>289.203501</td>\n",
              "      <td>288.295540</td>\n",
              "      <td>289.203501</td>\n",
              "      <td>288.744005</td>\n",
              "      <td>-1.746686</td>\n",
              "      <td>289.203501</td>\n",
              "      <td>14.856995</td>\n",
              "      <td>17.613461</td>\n",
              "      <td>17.300126</td>\n",
              "      <td>294.337006</td>\n",
              "    </tr>\n",
              "  </tbody>\n",
              "</table>\n",
              "</div>\n",
              "    <div class=\"colab-df-buttons\">\n",
              "\n",
              "  <div class=\"colab-df-container\">\n",
              "    <button class=\"colab-df-convert\" onclick=\"convertToInteractive('df-dd5b758f-865e-464e-a34e-727078e1d19b')\"\n",
              "            title=\"Convert this dataframe to an interactive table.\"\n",
              "            style=\"display:none;\">\n",
              "\n",
              "  <svg xmlns=\"http://www.w3.org/2000/svg\" height=\"24px\" viewBox=\"0 -960 960 960\">\n",
              "    <path d=\"M120-120v-720h720v720H120Zm60-500h600v-160H180v160Zm220 220h160v-160H400v160Zm0 220h160v-160H400v160ZM180-400h160v-160H180v160Zm440 0h160v-160H620v160ZM180-180h160v-160H180v160Zm440 0h160v-160H620v160Z\"/>\n",
              "  </svg>\n",
              "    </button>\n",
              "\n",
              "  <style>\n",
              "    .colab-df-container {\n",
              "      display:flex;\n",
              "      gap: 12px;\n",
              "    }\n",
              "\n",
              "    .colab-df-convert {\n",
              "      background-color: #E8F0FE;\n",
              "      border: none;\n",
              "      border-radius: 50%;\n",
              "      cursor: pointer;\n",
              "      display: none;\n",
              "      fill: #1967D2;\n",
              "      height: 32px;\n",
              "      padding: 0 0 0 0;\n",
              "      width: 32px;\n",
              "    }\n",
              "\n",
              "    .colab-df-convert:hover {\n",
              "      background-color: #E2EBFA;\n",
              "      box-shadow: 0px 1px 2px rgba(60, 64, 67, 0.3), 0px 1px 3px 1px rgba(60, 64, 67, 0.15);\n",
              "      fill: #174EA6;\n",
              "    }\n",
              "\n",
              "    .colab-df-buttons div {\n",
              "      margin-bottom: 4px;\n",
              "    }\n",
              "\n",
              "    [theme=dark] .colab-df-convert {\n",
              "      background-color: #3B4455;\n",
              "      fill: #D2E3FC;\n",
              "    }\n",
              "\n",
              "    [theme=dark] .colab-df-convert:hover {\n",
              "      background-color: #434B5C;\n",
              "      box-shadow: 0px 1px 3px 1px rgba(0, 0, 0, 0.15);\n",
              "      filter: drop-shadow(0px 1px 2px rgba(0, 0, 0, 0.3));\n",
              "      fill: #FFFFFF;\n",
              "    }\n",
              "  </style>\n",
              "\n",
              "    <script>\n",
              "      const buttonEl =\n",
              "        document.querySelector('#df-dd5b758f-865e-464e-a34e-727078e1d19b button.colab-df-convert');\n",
              "      buttonEl.style.display =\n",
              "        google.colab.kernel.accessAllowed ? 'block' : 'none';\n",
              "\n",
              "      async function convertToInteractive(key) {\n",
              "        const element = document.querySelector('#df-dd5b758f-865e-464e-a34e-727078e1d19b');\n",
              "        const dataTable =\n",
              "          await google.colab.kernel.invokeFunction('convertToInteractive',\n",
              "                                                    [key], {});\n",
              "        if (!dataTable) return;\n",
              "\n",
              "        const docLinkHtml = 'Like what you see? Visit the ' +\n",
              "          '<a target=\"_blank\" href=https://colab.research.google.com/notebooks/data_table.ipynb>data table notebook</a>'\n",
              "          + ' to learn more about interactive tables.';\n",
              "        element.innerHTML = '';\n",
              "        dataTable['output_type'] = 'display_data';\n",
              "        await google.colab.output.renderOutput(dataTable, element);\n",
              "        const docLink = document.createElement('div');\n",
              "        docLink.innerHTML = docLinkHtml;\n",
              "        element.appendChild(docLink);\n",
              "      }\n",
              "    </script>\n",
              "  </div>\n",
              "\n",
              "\n",
              "<div id=\"df-3f83cd76-6395-45b3-9f1f-d334b4364654\">\n",
              "  <button class=\"colab-df-quickchart\" onclick=\"quickchart('df-3f83cd76-6395-45b3-9f1f-d334b4364654')\"\n",
              "            title=\"Suggest charts\"\n",
              "            style=\"display:none;\">\n",
              "\n",
              "<svg xmlns=\"http://www.w3.org/2000/svg\" height=\"24px\"viewBox=\"0 0 24 24\"\n",
              "     width=\"24px\">\n",
              "    <g>\n",
              "        <path d=\"M19 3H5c-1.1 0-2 .9-2 2v14c0 1.1.9 2 2 2h14c1.1 0 2-.9 2-2V5c0-1.1-.9-2-2-2zM9 17H7v-7h2v7zm4 0h-2V7h2v10zm4 0h-2v-4h2v4z\"/>\n",
              "    </g>\n",
              "</svg>\n",
              "  </button>\n",
              "\n",
              "<style>\n",
              "  .colab-df-quickchart {\n",
              "      --bg-color: #E8F0FE;\n",
              "      --fill-color: #1967D2;\n",
              "      --hover-bg-color: #E2EBFA;\n",
              "      --hover-fill-color: #174EA6;\n",
              "      --disabled-fill-color: #AAA;\n",
              "      --disabled-bg-color: #DDD;\n",
              "  }\n",
              "\n",
              "  [theme=dark] .colab-df-quickchart {\n",
              "      --bg-color: #3B4455;\n",
              "      --fill-color: #D2E3FC;\n",
              "      --hover-bg-color: #434B5C;\n",
              "      --hover-fill-color: #FFFFFF;\n",
              "      --disabled-bg-color: #3B4455;\n",
              "      --disabled-fill-color: #666;\n",
              "  }\n",
              "\n",
              "  .colab-df-quickchart {\n",
              "    background-color: var(--bg-color);\n",
              "    border: none;\n",
              "    border-radius: 50%;\n",
              "    cursor: pointer;\n",
              "    display: none;\n",
              "    fill: var(--fill-color);\n",
              "    height: 32px;\n",
              "    padding: 0;\n",
              "    width: 32px;\n",
              "  }\n",
              "\n",
              "  .colab-df-quickchart:hover {\n",
              "    background-color: var(--hover-bg-color);\n",
              "    box-shadow: 0 1px 2px rgba(60, 64, 67, 0.3), 0 1px 3px 1px rgba(60, 64, 67, 0.15);\n",
              "    fill: var(--button-hover-fill-color);\n",
              "  }\n",
              "\n",
              "  .colab-df-quickchart-complete:disabled,\n",
              "  .colab-df-quickchart-complete:disabled:hover {\n",
              "    background-color: var(--disabled-bg-color);\n",
              "    fill: var(--disabled-fill-color);\n",
              "    box-shadow: none;\n",
              "  }\n",
              "\n",
              "  .colab-df-spinner {\n",
              "    border: 2px solid var(--fill-color);\n",
              "    border-color: transparent;\n",
              "    border-bottom-color: var(--fill-color);\n",
              "    animation:\n",
              "      spin 1s steps(1) infinite;\n",
              "  }\n",
              "\n",
              "  @keyframes spin {\n",
              "    0% {\n",
              "      border-color: transparent;\n",
              "      border-bottom-color: var(--fill-color);\n",
              "      border-left-color: var(--fill-color);\n",
              "    }\n",
              "    20% {\n",
              "      border-color: transparent;\n",
              "      border-left-color: var(--fill-color);\n",
              "      border-top-color: var(--fill-color);\n",
              "    }\n",
              "    30% {\n",
              "      border-color: transparent;\n",
              "      border-left-color: var(--fill-color);\n",
              "      border-top-color: var(--fill-color);\n",
              "      border-right-color: var(--fill-color);\n",
              "    }\n",
              "    40% {\n",
              "      border-color: transparent;\n",
              "      border-right-color: var(--fill-color);\n",
              "      border-top-color: var(--fill-color);\n",
              "    }\n",
              "    60% {\n",
              "      border-color: transparent;\n",
              "      border-right-color: var(--fill-color);\n",
              "    }\n",
              "    80% {\n",
              "      border-color: transparent;\n",
              "      border-right-color: var(--fill-color);\n",
              "      border-bottom-color: var(--fill-color);\n",
              "    }\n",
              "    90% {\n",
              "      border-color: transparent;\n",
              "      border-bottom-color: var(--fill-color);\n",
              "    }\n",
              "  }\n",
              "</style>\n",
              "\n",
              "  <script>\n",
              "    async function quickchart(key) {\n",
              "      const quickchartButtonEl =\n",
              "        document.querySelector('#' + key + ' button');\n",
              "      quickchartButtonEl.disabled = true;  // To prevent multiple clicks.\n",
              "      quickchartButtonEl.classList.add('colab-df-spinner');\n",
              "      try {\n",
              "        const charts = await google.colab.kernel.invokeFunction(\n",
              "            'suggestCharts', [key], {});\n",
              "      } catch (error) {\n",
              "        console.error('Error during call to suggestCharts:', error);\n",
              "      }\n",
              "      quickchartButtonEl.classList.remove('colab-df-spinner');\n",
              "      quickchartButtonEl.classList.add('colab-df-quickchart-complete');\n",
              "    }\n",
              "    (() => {\n",
              "      let quickchartButtonEl =\n",
              "        document.querySelector('#df-3f83cd76-6395-45b3-9f1f-d334b4364654 button');\n",
              "      quickchartButtonEl.style.display =\n",
              "        google.colab.kernel.accessAllowed ? 'block' : 'none';\n",
              "    })();\n",
              "  </script>\n",
              "</div>\n",
              "\n",
              "    </div>\n",
              "  </div>\n"
            ],
            "application/vnd.google.colaboratory.intrinsic+json": {
              "type": "dataframe",
              "variable_name": "df",
              "summary": "{\n  \"name\": \"df\",\n  \"rows\": 3406,\n  \"fields\": [\n    {\n      \"column\": \"date\",\n      \"properties\": {\n        \"dtype\": \"date\",\n        \"min\": \"2015-01-02 00:00:00\",\n        \"max\": \"2024-04-29 00:00:00\",\n        \"num_unique_values\": 3406,\n        \"samples\": [\n          \"2015-02-03 00:00:00\",\n          \"2024-04-19 00:00:00\",\n          \"2021-07-03 00:00:00\"\n        ],\n        \"semantic_type\": \"\",\n        \"description\": \"\"\n      }\n    },\n    {\n      \"column\": \"open\",\n      \"properties\": {\n        \"dtype\": \"number\",\n        \"std\": 17807.583857071124,\n        \"min\": 176.897003,\n        \"max\": 73079.375,\n        \"num_unique_values\": 3403,\n        \"samples\": [\n          269.306,\n          3516.139648,\n          10619.821289\n        ],\n        \"semantic_type\": \"\",\n        \"description\": \"\"\n      }\n    },\n    {\n      \"column\": \"high\",\n      \"properties\": {\n        \"dtype\": \"number\",\n        \"std\": 18232.358117798805,\n        \"min\": 211.731003,\n        \"max\": 73750.070313,\n        \"num_unique_values\": 3403,\n        \"samples\": [\n          276.51001,\n          3521.388184,\n          10657.837891\n        ],\n        \"semantic_type\": \"\",\n        \"description\": \"\"\n      }\n    },\n    {\n      \"column\": \"low\",\n      \"properties\": {\n        \"dtype\": \"number\",\n        \"std\": 17335.693731231648,\n        \"min\": 171.509995,\n        \"max\": 71334.09375,\n        \"num_unique_values\": 3404,\n        \"samples\": [\n          263.22699,\n          887.249023,\n          10472.356445\n        ],\n        \"semantic_type\": \"\",\n        \"description\": \"\"\n      }\n    },\n    {\n      \"column\": \"close\",\n      \"properties\": {\n        \"dtype\": \"number\",\n        \"std\": 17821.4206057739,\n        \"min\": 178.102997,\n        \"max\": 73083.5,\n        \"num_unique_values\": 3403,\n        \"samples\": [\n          266.272003,\n          3464.013428,\n          10575.974609\n        ],\n        \"semantic_type\": \"\",\n        \"description\": \"\"\n      }\n    },\n    {\n      \"column\": \"volume\",\n      \"properties\": {\n        \"dtype\": \"number\",\n        \"std\": 19327293178.22149,\n        \"min\": 7860650.0,\n        \"max\": 350967941479.0,\n        \"num_unique_values\": 3406,\n        \"samples\": [\n          40783700.0,\n          49920425401.0,\n          24383958643.0\n        ],\n        \"semantic_type\": \"\",\n        \"description\": \"\"\n      }\n    },\n    {\n      \"column\": \"rsi_7\",\n      \"properties\": {\n        \"dtype\": \"number\",\n        \"std\": 18.4997278141663,\n        \"min\": 1.2355063949826928,\n        \"max\": 100.0,\n        \"num_unique_values\": 3405,\n        \"samples\": [\n          74.21955293869641,\n          40.641917455144366,\n          44.35245956382563\n        ],\n        \"semantic_type\": \"\",\n        \"description\": \"\"\n      }\n    },\n    {\n      \"column\": \"rsi_14\",\n      \"properties\": {\n        \"dtype\": \"number\",\n        \"std\": 14.270579408959518,\n        \"min\": 1.3754207781324652,\n        \"max\": 100.0,\n        \"num_unique_values\": 3405,\n        \"samples\": [\n          71.45059097063324,\n          49.214435603082535,\n          46.60416228588997\n        ],\n        \"semantic_type\": \"\",\n        \"description\": \"\"\n      }\n    },\n    {\n      \"column\": \"cci_7\",\n      \"properties\": {\n        \"dtype\": \"number\",\n        \"std\": 101.82593748139523,\n        \"min\": -233.3333333333396,\n        \"max\": 233.3333333333347,\n        \"num_unique_values\": 3405,\n        \"samples\": [\n          80.65730037558512,\n          -76.84178744788247,\n          -114.7051754647432\n        ],\n        \"semantic_type\": \"\",\n        \"description\": \"\"\n      }\n    },\n    {\n      \"column\": \"cci_14\",\n      \"properties\": {\n        \"dtype\": \"number\",\n        \"std\": 111.41646420764249,\n        \"min\": -438.2388991391661,\n        \"max\": 396.35843245676176,\n        \"num_unique_values\": 3406,\n        \"samples\": [\n          -32.19410429500557,\n          -76.09132677508572,\n          43.56772051650485\n        ],\n        \"semantic_type\": \"\",\n        \"description\": \"\"\n      }\n    },\n    {\n      \"column\": \"sma_50\",\n      \"properties\": {\n        \"dtype\": \"number\",\n        \"std\": 17173.241967001144,\n        \"min\": 232.2616196,\n        \"max\": 67553.55273454,\n        \"num_unique_values\": 3406,\n        \"samples\": [\n          247.19788179411765,\n          67371.13445330001,\n          36854.33250006\n        ],\n        \"semantic_type\": \"\",\n        \"description\": \"\"\n      }\n    },\n    {\n      \"column\": \"ema_50\",\n      \"properties\": {\n        \"dtype\": \"number\",\n        \"std\": 17080.495405266956,\n        \"min\": 233.49984050049187,\n        \"max\": 64841.63482255307,\n        \"num_unique_values\": 3406,\n        \"samples\": [\n          240.81414481453487,\n          64537.59208076219,\n          38365.09736505133\n        ],\n        \"semantic_type\": \"\",\n        \"description\": \"\"\n      }\n    },\n    {\n      \"column\": \"sma_100\",\n      \"properties\": {\n        \"dtype\": \"number\",\n        \"std\": 16506.556936860405,\n        \"min\": 237.87341035,\n        \"max\": 59166.95800797,\n        \"num_unique_values\": 3406,\n        \"samples\": [\n          247.19788179411765,\n          56974.58367204,\n          46760.8413282\n        ],\n        \"semantic_type\": \"\",\n        \"description\": \"\"\n      }\n    },\n    {\n      \"column\": \"ema_100\",\n      \"properties\": {\n        \"dtype\": \"number\",\n        \"std\": 16430.066113371457,\n        \"min\": 237.4077348233588,\n        \"max\": 59920.84831117032,\n        \"num_unique_values\": 3406,\n        \"samples\": [\n          243.69014356089752,\n          58894.30824118428,\n          41764.44334607596\n        ],\n        \"semantic_type\": \"\",\n        \"description\": \"\"\n      }\n    },\n    {\n      \"column\": \"macd\",\n      \"properties\": {\n        \"dtype\": \"number\",\n        \"std\": 1039.2189284330982,\n        \"min\": -5053.2740796169455,\n        \"max\": 5509.100558632264,\n        \"num_unique_values\": 3406,\n        \"samples\": [\n          -3.5062240821449397,\n          -985.6377343181812,\n          -1071.5560372072505\n        ],\n        \"semantic_type\": \"\",\n        \"description\": \"\"\n      }\n    },\n    {\n      \"column\": \"bollinger\",\n      \"properties\": {\n        \"dtype\": \"number\",\n        \"std\": 17592.08781554297,\n        \"min\": 226.38319925,\n        \"max\": 69130.13574235,\n        \"num_unique_values\": 3406,\n        \"samples\": [\n          229.45985025,\n          67055.73769545,\n          35132.4453126\n        ],\n        \"semantic_type\": \"\",\n        \"description\": \"\"\n      }\n    },\n    {\n      \"column\": \"TrueRange\",\n      \"properties\": {\n        \"dtype\": \"number\",\n        \"std\": 1197.1039903536962,\n        \"min\": 1.02800000000002,\n        \"max\": 12864.621093999998,\n        \"num_unique_values\": 3402,\n        \"samples\": [\n          10.375,\n          33.63696299999992,\n          87.81054700000095\n        ],\n        \"semantic_type\": \"\",\n        \"description\": \"\"\n      }\n    },\n    {\n      \"column\": \"atr_7\",\n      \"properties\": {\n        \"dtype\": \"number\",\n        \"std\": 1008.7205989544573,\n        \"min\": 2.9611066502080123,\n        \"max\": 6054.702900447147,\n        \"num_unique_values\": 3406,\n        \"samples\": [\n          21.57788791269454,\n          4089.615875166756,\n          2215.9022299335656\n        ],\n        \"semantic_type\": \"\",\n        \"description\": \"\"\n      }\n    },\n    {\n      \"column\": \"atr_14\",\n      \"properties\": {\n        \"dtype\": \"number\",\n        \"std\": 977.0691493119326,\n        \"min\": 3.555622342770657,\n        \"max\": 5003.1142385941575,\n        \"num_unique_values\": 3406,\n        \"samples\": [\n          21.64836180157734,\n          3785.8194278075257,\n          2604.293977369797\n        ],\n        \"semantic_type\": \"\",\n        \"description\": \"\"\n      }\n    },\n    {\n      \"column\": \"next_day_close\",\n      \"properties\": {\n        \"dtype\": \"number\",\n        \"std\": 17835.289485568777,\n        \"min\": 178.102997,\n        \"max\": 73083.5,\n        \"num_unique_values\": 3403,\n        \"samples\": [\n          274.02301,\n          3459.154053,\n          10549.329102\n        ],\n        \"semantic_type\": \"\",\n        \"description\": \"\"\n      }\n    }\n  ]\n}"
            }
          },
          "metadata": {},
          "execution_count": 3
        }
      ]
    },
    {
      "cell_type": "code",
      "execution_count": null,
      "metadata": {
        "id": "jTpjTpO6CVrL"
      },
      "outputs": [],
      "source": [
        "dataset = data.values\n",
        "\n",
        "scaler = MinMaxScaler(feature_range = (0,1))\n",
        "scaled_data = scaler.fit_transform(dataset)"
      ]
    },
    {
      "cell_type": "code",
      "execution_count": null,
      "metadata": {
        "id": "xg9Uz7EzCh2-"
      },
      "outputs": [],
      "source": [
        "train_ratio = 0.8\n",
        "training_data_len = int(np.round(train_ratio*len(dataset)))"
      ]
    },
    {
      "cell_type": "code",
      "execution_count": null,
      "metadata": {
        "id": "3jduheHhCsCW"
      },
      "outputs": [],
      "source": [
        "lookback = 300\n",
        "x_train, y_train = [], []\n",
        "\n",
        "for i in range(lookback, len(scaled_data)):\n",
        "  x_train.append(scaled_data[i-lookback:i, 0])\n",
        "  y_train.append(scaled_data[i, 0])\n",
        "\n",
        "x_train, y_train = np.array(x_train), np.array(y_train)\n",
        "\n",
        "x_train = np.reshape(x_train, (x_train.shape[0], x_train.shape[1], 1))"
      ]
    },
    {
      "cell_type": "code",
      "execution_count": null,
      "metadata": {
        "colab": {
          "base_uri": "https://localhost:8080/"
        },
        "id": "N050mSQcDHmf",
        "outputId": "86b1ef45-44a5-4886-98e2-4ed2dcee5a4f"
      },
      "outputs": [
        {
          "output_type": "stream",
          "name": "stderr",
          "text": [
            "/usr/local/lib/python3.10/dist-packages/keras/src/layers/rnn/rnn.py:204: UserWarning: Do not pass an `input_shape`/`input_dim` argument to a layer. When using Sequential models, prefer using an `Input(shape)` object as the first layer in the model instead.\n",
            "  super().__init__(**kwargs)\n"
          ]
        }
      ],
      "source": [
        "model = Sequential()\n",
        "model.add(LSTM(50, return_sequences = True, input_shape = (x_train.shape[1], 1)))\n",
        "model.add(LSTM(50, return_sequences = False))\n",
        "model.add(Dense(25))\n",
        "model.add(Dense(1))"
      ]
    },
    {
      "cell_type": "code",
      "execution_count": null,
      "metadata": {
        "colab": {
          "base_uri": "https://localhost:8080/"
        },
        "id": "IXzVFjxDDXBB",
        "outputId": "a4d829a2-358e-4d73-80a4-6b52f8925b72"
      },
      "outputs": [
        {
          "output_type": "stream",
          "name": "stdout",
          "text": [
            "Epoch 1/15\n",
            "\u001b[1m78/78\u001b[0m \u001b[32m━━━━━━━━━━━━━━━━━━━━\u001b[0m\u001b[37m\u001b[0m \u001b[1m31s\u001b[0m 357ms/step - loss: 0.0222 - val_loss: 8.3109e-04\n",
            "Epoch 2/15\n",
            "\u001b[1m78/78\u001b[0m \u001b[32m━━━━━━━━━━━━━━━━━━━━\u001b[0m\u001b[37m\u001b[0m \u001b[1m23s\u001b[0m 290ms/step - loss: 7.3929e-04 - val_loss: 7.6116e-04\n",
            "Epoch 3/15\n",
            "\u001b[1m78/78\u001b[0m \u001b[32m━━━━━━━━━━━━━━━━━━━━\u001b[0m\u001b[37m\u001b[0m \u001b[1m39s\u001b[0m 266ms/step - loss: 6.6366e-04 - val_loss: 8.8932e-04\n",
            "Epoch 4/15\n",
            "\u001b[1m78/78\u001b[0m \u001b[32m━━━━━━━━━━━━━━━━━━━━\u001b[0m\u001b[37m\u001b[0m \u001b[1m42s\u001b[0m 277ms/step - loss: 6.2697e-04 - val_loss: 6.9437e-04\n",
            "Epoch 5/15\n",
            "\u001b[1m78/78\u001b[0m \u001b[32m━━━━━━━━━━━━━━━━━━━━\u001b[0m\u001b[37m\u001b[0m \u001b[1m20s\u001b[0m 259ms/step - loss: 5.1633e-04 - val_loss: 5.5251e-04\n",
            "Epoch 6/15\n",
            "\u001b[1m78/78\u001b[0m \u001b[32m━━━━━━━━━━━━━━━━━━━━\u001b[0m\u001b[37m\u001b[0m \u001b[1m21s\u001b[0m 270ms/step - loss: 4.6856e-04 - val_loss: 0.0012\n",
            "Epoch 7/15\n",
            "\u001b[1m78/78\u001b[0m \u001b[32m━━━━━━━━━━━━━━━━━━━━\u001b[0m\u001b[37m\u001b[0m \u001b[1m41s\u001b[0m 275ms/step - loss: 4.9998e-04 - val_loss: 6.7505e-04\n",
            "Epoch 8/15\n",
            "\u001b[1m78/78\u001b[0m \u001b[32m━━━━━━━━━━━━━━━━━━━━\u001b[0m\u001b[37m\u001b[0m \u001b[1m41s\u001b[0m 273ms/step - loss: 4.3888e-04 - val_loss: 7.6016e-04\n",
            "Epoch 9/15\n",
            "\u001b[1m78/78\u001b[0m \u001b[32m━━━━━━━━━━━━━━━━━━━━\u001b[0m\u001b[37m\u001b[0m \u001b[1m40s\u001b[0m 263ms/step - loss: 4.3518e-04 - val_loss: 4.7889e-04\n",
            "Epoch 10/15\n",
            "\u001b[1m78/78\u001b[0m \u001b[32m━━━━━━━━━━━━━━━━━━━━\u001b[0m\u001b[37m\u001b[0m \u001b[1m40s\u001b[0m 255ms/step - loss: 3.6861e-04 - val_loss: 5.1644e-04\n",
            "Epoch 11/15\n",
            "\u001b[1m78/78\u001b[0m \u001b[32m━━━━━━━━━━━━━━━━━━━━\u001b[0m\u001b[37m\u001b[0m \u001b[1m22s\u001b[0m 271ms/step - loss: 4.0572e-04 - val_loss: 5.0310e-04\n",
            "Epoch 12/15\n",
            "\u001b[1m78/78\u001b[0m \u001b[32m━━━━━━━━━━━━━━━━━━━━\u001b[0m\u001b[37m\u001b[0m \u001b[1m41s\u001b[0m 272ms/step - loss: 3.8581e-04 - val_loss: 5.1800e-04\n",
            "Epoch 13/15\n",
            "\u001b[1m78/78\u001b[0m \u001b[32m━━━━━━━━━━━━━━━━━━━━\u001b[0m\u001b[37m\u001b[0m \u001b[1m40s\u001b[0m 262ms/step - loss: 4.2662e-04 - val_loss: 3.9525e-04\n",
            "Epoch 14/15\n",
            "\u001b[1m78/78\u001b[0m \u001b[32m━━━━━━━━━━━━━━━━━━━━\u001b[0m\u001b[37m\u001b[0m \u001b[1m41s\u001b[0m 260ms/step - loss: 4.0038e-04 - val_loss: 4.1068e-04\n",
            "Epoch 15/15\n",
            "\u001b[1m78/78\u001b[0m \u001b[32m━━━━━━━━━━━━━━━━━━━━\u001b[0m\u001b[37m\u001b[0m \u001b[1m21s\u001b[0m 275ms/step - loss: 2.4694e-04 - val_loss: 3.2022e-04\n"
          ]
        }
      ],
      "source": [
        "model.compile(optimizer = 'adam', loss = 'mean_squared_error')\n",
        "\n",
        "history = model.fit(x_train, y_train, batch_size=32, epochs = 15, validation_split=0.2)"
      ]
    },
    {
      "cell_type": "code",
      "execution_count": null,
      "metadata": {
        "id": "LBCFSxM4Dq4J"
      },
      "outputs": [],
      "source": [
        "test_data = scaled_data[training_data_len - lookback:, :]\n",
        "\n",
        "x_test = []\n",
        "y_test = dataset[training_data_len:, :]\n",
        "for i in range(lookback, len(test_data)):\n",
        "  x_test.append(test_data[i-lookback:i, 0])\n",
        "\n",
        "x_test = np.array(x_test)\n",
        "\n",
        "x_test = np.reshape(x_test, (x_test.shape[0], x_test.shape[1], 1))"
      ]
    },
    {
      "cell_type": "code",
      "execution_count": null,
      "metadata": {
        "colab": {
          "base_uri": "https://localhost:8080/"
        },
        "id": "hIP8jyVeD7gB",
        "outputId": "1c063c42-7014-461e-b662-c7938743697d"
      },
      "outputs": [
        {
          "output_type": "stream",
          "name": "stdout",
          "text": [
            "\u001b[1m22/22\u001b[0m \u001b[32m━━━━━━━━━━━━━━━━━━━━\u001b[0m\u001b[37m\u001b[0m \u001b[1m3s\u001b[0m 108ms/step\n",
            "RMSE: 25.24214742657855\n",
            "MAE: 841.2948386901616\n",
            "MAPE: 2.6870523870367515\n"
          ]
        }
      ],
      "source": [
        "predictions = model.predict(x_test)\n",
        "predictions = scaler.inverse_transform(predictions)\n",
        "\n",
        "rmse = np.sqrt(np.mean(predictions - y_test)**2)\n",
        "mae = np.mean(np.abs(predictions - y_test))\n",
        "mape = np.mean(np.abs((predictions - y_test)/y_test))*100\n",
        "\n",
        "print('RMSE:', rmse)\n",
        "print('MAE:', mae)\n",
        "print('MAPE:', mape)"
      ]
    },
    {
      "cell_type": "code",
      "execution_count": null,
      "metadata": {
        "colab": {
          "base_uri": "https://localhost:8080/",
          "height": 578
        },
        "id": "q136rPT8EMqS",
        "outputId": "5db5f4de-3f95-468b-c6d7-18e063d4b5ed"
      },
      "outputs": [
        {
          "output_type": "stream",
          "name": "stderr",
          "text": [
            "<ipython-input-11-e16237a46faf>:3: SettingWithCopyWarning: \n",
            "A value is trying to be set on a copy of a slice from a DataFrame.\n",
            "Try using .loc[row_indexer,col_indexer] = value instead\n",
            "\n",
            "See the caveats in the documentation: https://pandas.pydata.org/pandas-docs/stable/user_guide/indexing.html#returning-a-view-versus-a-copy\n",
            "  valid['Predictions'] = predictions\n"
          ]
        },
        {
          "output_type": "display_data",
          "data": {
            "text/plain": [
              "<Figure size 1600x800 with 1 Axes>"
            ],
            "image/png": "[encoded data removed]"
          },
          "metadata": {}
        }
      ],
      "source": [
        "train = df[:training_data_len]\n",
        "valid = df[training_data_len:]\n",
        "valid['Predictions'] = predictions\n",
        "\n",
        "plt.figure(figsize = (16,8))\n",
        "plt.title('Model')\n",
        "plt.xlabel('date', fontsize = 18)\n",
        "plt.ylabel('Close Price USD ($)', fontsize = 18)\n",
        "plt.plot(train.index, train['close'])\n",
        "plt.plot(valid.index, valid[['close', 'Predictions']])\n",
        "plt.legend(['Train', 'Val', 'Predictions'], loc = 'lower right')\n",
        "plt.show()"
      ]
    },
    {
      "cell_type": "markdown",
      "source": [
        "# SISTEM PAKAR"
      ],
      "metadata": {
        "id": "gyHOd5kN2MB8"
      }
    },
    {
      "cell_type": "code",
      "source": [
        "model.save(\"bitcoin_prediction_model.h5\")"
      ],
      "metadata": {
        "colab": {
          "base_uri": "https://localhost:8080/"
        },
        "id": "HkSWDihM2ORU",
        "outputId": "424dbced-1b5c-4436-fa69-3b8858bc7f75"
      },
      "execution_count": null,
      "outputs": [
        {
          "output_type": "stream",
          "name": "stderr",
          "text": [
            "WARNING:absl:You are saving your model as an HDF5 file via `model.save()` or `keras.saving.save_model(model)`. This file format is considered legacy. We recommend using instead the native Keras format, e.g. `model.save('my_model.keras')` or `keras.saving.save_model(model, 'my_model.keras')`. \n"
          ]
        }
      ]
    },
    {
      "cell_type": "code",
      "source": [
        "import numpy as np\n",
        "import tensorflow as tf\n",
        "from sklearn.preprocessing import MinMaxScaler\n",
        "\n",
        "# Fungsi prediksi\n",
        "def predict_bitcoin_price(model_path, scaler, data, lookback=300):\n",
        "    # Load model\n",
        "    model = tf.keras.models.load_model(model_path)\n",
        "\n",
        "    # Skalakan data input\n",
        "    scaled_data = scaler.transform(data)\n",
        "\n",
        "    # Siapkan data untuk prediksi\n",
        "    x_input = []\n",
        "    for i in range(lookback, len(scaled_data)):\n",
        "        x_input.append(scaled_data[i-lookback:i, 0])\n",
        "\n",
        "    x_input = np.array(x_input)\n",
        "    x_input = np.reshape(x_input, (x_input.shape[0], x_input.shape[1], 1))\n",
        "\n",
        "    # Prediksi\n",
        "    predictions = model.predict(x_input)\n",
        "    predictions = scaler.inverse_transform(predictions)\n",
        "    return predictions"
      ],
      "metadata": {
        "id": "B1Nn9nP_2QRh"
      },
      "execution_count": null,
      "outputs": []
    },
    {
      "cell_type": "code",
      "source": [
        "pip install streamlit"
      ],
      "metadata": {
        "colab": {
          "base_uri": "https://localhost:8080/"
        },
        "id": "M0vo0Jqn2Shx",
        "outputId": "12577327-b483-4a50-cd09-3617f73b098f"
      },
      "execution_count": null,
      "outputs": [
        {
          "output_type": "stream",
          "name": "stdout",
          "text": [
            "Collecting streamlit\n",
            "  Downloading streamlit-1.40.2-py2.py3-none-any.whl.metadata (8.4 kB)\n",
            "Requirement already satisfied: altair<6,>=4.0 in /usr/local/lib/python3.10/dist-packages (from streamlit) (4.2.2)\n",
            "Requirement already satisfied: blinker<2,>=1.0.0 in /usr/local/lib/python3.10/dist-packages (from streamlit) (1.9.0)\n",
            "Requirement already satisfied: cachetools<6,>=4.0 in /usr/local/lib/python3.10/dist-packages (from streamlit) (5.5.0)\n",
            "Requirement already satisfied: click<9,>=7.0 in /usr/local/lib/python3.10/dist-packages (from streamlit) (8.1.7)\n",
            "Requirement already satisfied: numpy<3,>=1.23 in /usr/local/lib/python3.10/dist-packages (from streamlit) (1.26.4)\n",
            "Requirement already satisfied: packaging<25,>=20 in /usr/local/lib/python3.10/dist-packages (from streamlit) (24.2)\n",
            "Requirement already satisfied: pandas<3,>=1.4.0 in /usr/local/lib/python3.10/dist-packages (from streamlit) (2.2.2)\n",
            "Requirement already satisfied: pillow<12,>=7.1.0 in /usr/local/lib/python3.10/dist-packages (from streamlit) (11.0.0)\n",
            "Requirement already satisfied: protobuf<6,>=3.20 in /usr/local/lib/python3.10/dist-packages (from streamlit) (4.25.5)\n",
            "Requirement already satisfied: pyarrow>=7.0 in /usr/local/lib/python3.10/dist-packages (from streamlit) (17.0.0)\n",
            "Requirement already satisfied: requests<3,>=2.27 in /usr/local/lib/python3.10/dist-packages (from streamlit) (2.32.3)\n",
            "Requirement already satisfied: rich<14,>=10.14.0 in /usr/local/lib/python3.10/dist-packages (from streamlit) (13.9.4)\n",
            "Requirement already satisfied: tenacity<10,>=8.1.0 in /usr/local/lib/python3.10/dist-packages (from streamlit) (9.0.0)\n",
            "Requirement already satisfied: toml<2,>=0.10.1 in /usr/local/lib/python3.10/dist-packages (from streamlit) (0.10.2)\n",
            "Requirement already satisfied: typing-extensions<5,>=4.3.0 in /usr/local/lib/python3.10/dist-packages (from streamlit) (4.12.2)\n",
            "Collecting watchdog<7,>=2.1.5 (from streamlit)\n",
            "  Downloading watchdog-6.0.0-py3-none-manylinux2014_x86_64.whl.metadata (44 kB)\n",
            "\u001b[2K     \u001b[90m━━━━━━━━━━━━━━━━━━━━━━━━━━━━━━━━━━━━━━━━\u001b[0m \u001b[32m44.3/44.3 kB\u001b[0m \u001b[31m1.9 MB/s\u001b[0m eta \u001b[36m0:00:00\u001b[0m\n",
            "\u001b[?25hRequirement already satisfied: gitpython!=3.1.19,<4,>=3.0.7 in /usr/local/lib/python3.10/dist-packages (from streamlit) (3.1.43)\n",
            "Collecting pydeck<1,>=0.8.0b4 (from streamlit)\n",
            "  Downloading pydeck-0.9.1-py2.py3-none-any.whl.metadata (4.1 kB)\n",
            "Requirement already satisfied: tornado<7,>=6.0.3 in /usr/local/lib/python3.10/dist-packages (from streamlit) (6.3.3)\n",
            "Requirement already satisfied: entrypoints in /usr/local/lib/python3.10/dist-packages (from altair<6,>=4.0->streamlit) (0.4)\n",
            "Requirement already satisfied: jinja2 in /usr/local/lib/python3.10/dist-packages (from altair<6,>=4.0->streamlit) (3.1.4)\n",
            "Requirement already satisfied: jsonschema>=3.0 in /usr/local/lib/python3.10/dist-packages (from altair<6,>=4.0->streamlit) (4.23.0)\n",
            "Requirement already satisfied: toolz in /usr/local/lib/python3.10/dist-packages (from altair<6,>=4.0->streamlit) (0.12.1)\n",
            "Requirement already satisfied: gitdb<5,>=4.0.1 in /usr/local/lib/python3.10/dist-packages (from gitpython!=3.1.19,<4,>=3.0.7->streamlit) (4.0.11)\n",
            "Requirement already satisfied: python-dateutil>=2.8.2 in /usr/local/lib/python3.10/dist-packages (from pandas<3,>=1.4.0->streamlit) (2.8.2)\n",
            "Requirement already satisfied: pytz>=2020.1 in /usr/local/lib/python3.10/dist-packages (from pandas<3,>=1.4.0->streamlit) (2024.2)\n",
            "Requirement already satisfied: tzdata>=2022.7 in /usr/local/lib/python3.10/dist-packages (from pandas<3,>=1.4.0->streamlit) (2024.2)\n",
            "Requirement already satisfied: charset-normalizer<4,>=2 in /usr/local/lib/python3.10/dist-packages (from requests<3,>=2.27->streamlit) (3.4.0)\n",
            "Requirement already satisfied: idna<4,>=2.5 in /usr/local/lib/python3.10/dist-packages (from requests<3,>=2.27->streamlit) (3.10)\n",
            "Requirement already satisfied: urllib3<3,>=1.21.1 in /usr/local/lib/python3.10/dist-packages (from requests<3,>=2.27->streamlit) (2.2.3)\n",
            "Requirement already satisfied: certifi>=2017.4.17 in /usr/local/lib/python3.10/dist-packages (from requests<3,>=2.27->streamlit) (2024.8.30)\n",
            "Requirement already satisfied: markdown-it-py>=2.2.0 in /usr/local/lib/python3.10/dist-packages (from rich<14,>=10.14.0->streamlit) (3.0.0)\n",
            "Requirement already satisfied: pygments<3.0.0,>=2.13.0 in /usr/local/lib/python3.10/dist-packages (from rich<14,>=10.14.0->streamlit) (2.18.0)\n",
            "Requirement already satisfied: smmap<6,>=3.0.1 in /usr/local/lib/python3.10/dist-packages (from gitdb<5,>=4.0.1->gitpython!=3.1.19,<4,>=3.0.7->streamlit) (5.0.1)\n",
            "Requirement already satisfied: MarkupSafe>=2.0 in /usr/local/lib/python3.10/dist-packages (from jinja2->altair<6,>=4.0->streamlit) (3.0.2)\n",
            "Requirement already satisfied: attrs>=22.2.0 in /usr/local/lib/python3.10/dist-packages (from jsonschema>=3.0->altair<6,>=4.0->streamlit) (24.2.0)\n",
            "Requirement already satisfied: jsonschema-specifications>=2023.03.6 in /usr/local/lib/python3.10/dist-packages (from jsonschema>=3.0->altair<6,>=4.0->streamlit) (2024.10.1)\n",
            "Requirement already satisfied: referencing>=0.28.4 in /usr/local/lib/python3.10/dist-packages (from jsonschema>=3.0->altair<6,>=4.0->streamlit) (0.35.1)\n",
            "Requirement already satisfied: rpds-py>=0.7.1 in /usr/local/lib/python3.10/dist-packages (from jsonschema>=3.0->altair<6,>=4.0->streamlit) (0.21.0)\n",
            "Requirement already satisfied: mdurl~=0.1 in /usr/local/lib/python3.10/dist-packages (from markdown-it-py>=2.2.0->rich<14,>=10.14.0->streamlit) (0.1.2)\n",
            "Requirement already satisfied: six>=1.5 in /usr/local/lib/python3.10/dist-packages (from python-dateutil>=2.8.2->pandas<3,>=1.4.0->streamlit) (1.16.0)\n",
            "Downloading streamlit-1.40.2-py2.py3-none-any.whl (8.6 MB)\n",
            "\u001b[2K   \u001b[90m━━━━━━━━━━━━━━━━━━━━━━━━━━━━━━━━━━━━━━━━\u001b[0m \u001b[32m8.6/8.6 MB\u001b[0m \u001b[31m44.6 MB/s\u001b[0m eta \u001b[36m0:00:00\u001b[0m\n",
            "\u001b[?25hDownloading pydeck-0.9.1-py2.py3-none-any.whl (6.9 MB)\n",
            "\u001b[2K   \u001b[90m━━━━━━━━━━━━━━━━━━━━━━━━━━━━━━━━━━━━━━━━\u001b[0m \u001b[32m6.9/6.9 MB\u001b[0m \u001b[31m66.1 MB/s\u001b[0m eta \u001b[36m0:00:00\u001b[0m\n",
            "\u001b[?25hDownloading watchdog-6.0.0-py3-none-manylinux2014_x86_64.whl (79 kB)\n",
            "\u001b[2K   \u001b[90m━━━━━━━━━━━━━━━━━━━━━━━━━━━━━━━━━━━━━━━━\u001b[0m \u001b[32m79.1/79.1 kB\u001b[0m \u001b[31m8.7 MB/s\u001b[0m eta \u001b[36m0:00:00\u001b[0m\n",
            "\u001b[?25hInstalling collected packages: watchdog, pydeck, streamlit\n",
            "Successfully installed pydeck-0.9.1 streamlit-1.40.2 watchdog-6.0.0\n"
          ]
        }
      ]
    },
    {
      "cell_type": "code",
      "source": [
        "import streamlit as st\n",
        "import pandas as pd\n",
        "from sklearn.preprocessing import MinMaxScaler\n",
        "import tensorflow as tf\n",
        "import numpy as np\n",
        "\n",
        "# Load model dan scaler\n",
        "model_path = \"bitcoin_prediction_model.h5\"\n",
        "model = tf.keras.models.load_model(model_path)\n",
        "\n",
        "# Fungsi prediksi\n",
        "def predict_prices(data, lookback=300):\n",
        "    scaler = MinMaxScaler(feature_range=(0, 1))\n",
        "    scaled_data = scaler.fit_transform(data)\n",
        "\n",
        "    x_input = []\n",
        "    for i in range(lookback, len(scaled_data)):\n",
        "        x_input.append(scaled_data[i-lookback:i, 0])\n",
        "\n",
        "    x_input = np.array(x_input)\n",
        "    x_input = np.reshape(x_input, (x_input.shape[0], x_input.shape[1], 1))\n",
        "\n",
        "    predictions = model.predict(x_input)\n",
        "    return scaler.inverse_transform(predictions)\n",
        "\n",
        "# Streamlit App\n",
        "st.title(\"Bitcoin Price Prediction Expert System\")\n",
        "st.write(\"Upload a CSV file containing Bitcoin closing prices.\")\n",
        "\n",
        "uploaded_file = st.file_uploader(\"Choose a file\", type=[\"csv\"])\n",
        "if uploaded_file is not None:\n",
        "    df = pd.read_csv(uploaded_file)\n",
        "    df['date'] = pd.to_datetime(df['date'])\n",
        "    df.set_index('date', inplace=True)\n",
        "\n",
        "    st.write(\"Dataset Preview:\")\n",
        "    st.write(df.head())\n",
        "\n",
        "    # Prediksi\n",
        "    st.write(\"Processing predictions...\")\n",
        "    predictions = predict_prices(df.filter(['close']).values)\n",
        "    df['Predicted Prices'] = None\n",
        "    df['Predicted Prices'][-len(predictions):] = predictions.flatten()\n",
        "\n",
        "    st.write(\"Predictions:\")\n",
        "    st.line_chart(df[['close', 'Predicted Prices']])"
      ],
      "metadata": {
        "colab": {
          "base_uri": "https://localhost:8080/"
        },
        "id": "UmgYBGTH2UoQ",
        "outputId": "df2f647c-c86b-467f-e411-80e8e820134b"
      },
      "execution_count": null,
      "outputs": [
        {
          "output_type": "stream",
          "name": "stderr",
          "text": [
            "WARNING:absl:Compiled the loaded model, but the compiled metrics have yet to be built. `model.compile_metrics` will be empty until you train or evaluate the model.\n",
            "2024-12-02 14:58:51.958 WARNING streamlit.runtime.scriptrunner_utils.script_run_context: Thread 'MainThread': missing ScriptRunContext! This warning can be ignored when running in bare mode.\n",
            "2024-12-02 14:58:52.895 \n",
            "  \u001b[33m\u001b[1mWarning:\u001b[0m to view this Streamlit app on a browser, run it with the following\n",
            "  command:\n",
            "\n",
            "    streamlit run /usr/local/lib/python3.10/dist-packages/colab_kernel_launcher.py [ARGUMENTS]\n",
            "2024-12-02 14:58:52.897 Thread 'MainThread': missing ScriptRunContext! This warning can be ignored when running in bare mode.\n",
            "2024-12-02 14:58:52.899 Thread 'MainThread': missing ScriptRunContext! This warning can be ignored when running in bare mode.\n",
            "2024-12-02 14:58:52.905 Thread 'MainThread': missing ScriptRunContext! This warning can be ignored when running in bare mode.\n",
            "2024-12-02 14:58:52.908 Thread 'MainThread': missing ScriptRunContext! This warning can be ignored when running in bare mode.\n",
            "2024-12-02 14:58:52.918 Thread 'MainThread': missing ScriptRunContext! This warning can be ignored when running in bare mode.\n",
            "2024-12-02 14:58:52.919 Thread 'MainThread': missing ScriptRunContext! This warning can be ignored when running in bare mode.\n",
            "2024-12-02 14:58:52.925 Thread 'MainThread': missing ScriptRunContext! This warning can be ignored when running in bare mode.\n",
            "2024-12-02 14:58:52.928 Thread 'MainThread': missing ScriptRunContext! This warning can be ignored when running in bare mode.\n",
            "2024-12-02 14:58:52.936 Thread 'MainThread': missing ScriptRunContext! This warning can be ignored when running in bare mode.\n",
            "2024-12-02 14:58:52.938 Thread 'MainThread': missing ScriptRunContext! This warning can be ignored when running in bare mode.\n"
          ]
        }
      ]
    },
    {
      "cell_type": "code",
      "source": [
        "!streamlit run app.py"
      ],
      "metadata": {
        "colab": {
          "base_uri": "https://localhost:8080/"
        },
        "id": "Zes5iCq82WqZ",
        "outputId": "1a29b02c-28df-47f5-c91c-a015f3b50931"
      },
      "execution_count": null,
      "outputs": [
        {
          "output_type": "stream",
          "name": "stdout",
          "text": [
            "Usage: streamlit run [OPTIONS] TARGET [ARGS]...\n",
            "Try 'streamlit run --help' for help.\n",
            "\n",
            "Error: Invalid value: File does not exist: app.py\n"
          ]
        }
      ]
    }
  ],
  "metadata": {
    "colab": {
      "provenance": []
    },
    "kernelspec": {
      "display_name": "Python 3",
      "name": "python3"
    },
    "language_info": {
      "name": "python"
    }
  },
  "nbformat": 4,
  "nbformat_minor": 0
}